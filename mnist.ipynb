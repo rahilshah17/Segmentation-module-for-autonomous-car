{
  "nbformat": 4,
  "nbformat_minor": 0,
  "metadata": {
    "colab": {
      "provenance": [],
      "authorship_tag": "ABX9TyNfcUQBU1bZrKjgKJofUCUr",
      "include_colab_link": true
    },
    "kernelspec": {
      "name": "python3",
      "display_name": "Python 3"
    },
    "language_info": {
      "name": "python"
    }
  },
  "cells": [
    {
      "cell_type": "markdown",
      "metadata": {
        "id": "view-in-github",
        "colab_type": "text"
      },
      "source": [
        "<a href=\"https://colab.research.google.com/github/rahilshah17/Segmentation-module-for-autonomous-car/blob/main/mnist.ipynb\" target=\"_parent\"><img src=\"https://colab.research.google.com/assets/colab-badge.svg\" alt=\"Open In Colab\"/></a>"
      ]
    },
    {
      "cell_type": "markdown",
      "source": [
        "#**MNIST dataset classification**\n",
        "\n",
        "**Guide: Dr. Ramkrishna Pasumarthy**<br>\n",
        "Task Assigned by: Soumyajit Chakraborty Sir<br>\n",
        "Author: Rahil Amit Shah<br>\n",
        "Roll no.: EE20B104\n"
      ],
      "metadata": {
        "id": "fo6RF9KaIGee"
      }
    },
    {
      "cell_type": "markdown",
      "source": [
        "###**Importing the dataset and data vizualization**"
      ],
      "metadata": {
        "id": "SD6byI90ImoA"
      }
    },
    {
      "cell_type": "code",
      "source": [
        "import numpy as np\n",
        "import tensorflow as tf\n",
        "import matplotlib.pyplot as plt"
      ],
      "metadata": {
        "id": "0SdGixL2G_R3"
      },
      "execution_count": null,
      "outputs": []
    },
    {
      "cell_type": "code",
      "execution_count": null,
      "metadata": {
        "id": "X1KPu5sTEEhZ",
        "colab": {
          "base_uri": "https://localhost:8080/"
        },
        "outputId": "35c62282-7293-4e7c-83a8-f5bb12070a58"
      },
      "outputs": [
        {
          "output_type": "stream",
          "name": "stdout",
          "text": [
            "Downloading data from https://storage.googleapis.com/tensorflow/tf-keras-datasets/mnist.npz\n",
            "11490434/11490434 [==============================] - 0s 0us/step\n"
          ]
        }
      ],
      "source": [
        "(x_train, y_train), (x_test, y_test) = tf.keras.datasets.mnist.load_data()\n",
        "x_train = tf.data.Dataset.from_tensor_slices(x_train)\n",
        "y_train = tf.data.Dataset.from_tensor_slices(y_train)\n",
        "x_test = tf.data.Dataset.from_tensor_slices(x_test)\n",
        "y_test = tf.data.Dataset.from_tensor_slices(y_test)"
      ]
    },
    {
      "cell_type": "markdown",
      "source": [
        "Let's see how the dataset looks like."
      ],
      "metadata": {
        "id": "8DwhkLmHGIgn"
      }
    },
    {
      "cell_type": "code",
      "source": [
        "images_iter = iter(x_train)\n",
        "labels_iter = iter(y_train)\n",
        "plt.figure(figsize=(10, 10))\n",
        "for i in range(25):\n",
        "    ax = plt.subplot(5, 5, i + 1)\n",
        "    plt.imshow(next(images_iter).numpy().astype(\"uint8\"))\n",
        "    plt.title(next(labels_iter).numpy().astype(\"uint8\"))\n",
        "    plt.axis(\"off\")"
      ],
      "metadata": {
        "colab": {
          "base_uri": "https://localhost:8080/",
          "height": 591
        },
        "id": "x5AhZLx6FpCU",
        "outputId": "cc720985-90bf-47e2-d59b-cc3c1c955cf3"
      },
      "execution_count": null,
      "outputs": [
        {
          "output_type": "display_data",
          "data": {
            "text/plain": [
              "<Figure size 720x720 with 25 Axes>"
            ],
            "image/png": "[encoded data removed]"
          },
          "metadata": {
            "needs_background": "light"
          }
        }
      ]
    },
    {
      "cell_type": "markdown",
      "source": [
        "We see that the dataset consits of images of some handwritten numbers of low quality."
      ],
      "metadata": {
        "id": "QfsNUDySHVFB"
      }
    },
    {
      "cell_type": "markdown",
      "source": [
        "###**Training the model in tensorflow**"
      ],
      "metadata": {
        "id": "i43LX877IEqf"
      }
    },
    {
      "cell_type": "code",
      "source": [
        "def normalize(image):\n",
        "    \"\"\"\n",
        "    Transform an image into a tensor of shape (64 * 64 * 3, )\n",
        "    and normalize its components.\n",
        "\n",
        "    Arguments\n",
        "    image - Tensor.\n",
        "\n",
        "    Returns:\n",
        "    result -- Transformed tensor\n",
        "    \"\"\"\n",
        "    image = tf.cast(image, tf.float32) / 255.0\n",
        "    image = tf.reshape(image, [-1,])\n",
        "    return image"
      ],
      "metadata": {
        "id": "HYN3aBDDGPS4"
      },
      "execution_count": null,
      "outputs": []
    },
    {
      "cell_type": "code",
      "source": [
        "new_train = x_train.map(normalize)\n",
        "new_test = x_test.map(normalize)"
      ],
      "metadata": {
        "id": "qvVcmIT2I2iB"
      },
      "execution_count": null,
      "outputs": []
    },
    {
      "cell_type": "code",
      "source": [
        "print(next(iter(new_train)))"
      ],
      "metadata": {
        "colab": {
          "base_uri": "https://localhost:8080/"
        },
        "id": "43LkQDiULVUC",
        "outputId": "241fb5f4-acbb-4edf-f0ed-7f34c9f561e3"
      },
      "execution_count": null,
      "outputs": [
        {
          "output_type": "stream",
          "name": "stdout",
          "text": [
            "tf.Tensor(\n",
            "[0.         0.         0.         0.         0.         0.\n",
            " 0.         0.         0.         0.         0.         0.\n",
            " 0.         0.         0.         0.         0.         0.\n",
            " 0.         0.         0.         0.         0.         0.\n",
            " 0.         0.         0.         0.         0.         0.\n",
            " 0.         0.         0.         0.         0.         0.\n",
            " 0.         0.         0.         0.         0.         0.\n",
            " 0.         0.         0.         0.         0.         0.\n",
            " 0.         0.         0.         0.         0.         0.\n",
            " 0.         0.         0.         0.         0.         0.\n",
            " 0.         0.         0.         0.         0.         0.\n",
            " 0.         0.         0.         0.         0.         0.\n",
            " 0.         0.         0.         0.         0.         0.\n",
            " 0.         0.         0.         0.         0.         0.\n",
            " 0.         0.         0.         0.         0.         0.\n",
            " 0.         0.         0.         0.         0.         0.\n",
            " 0.         0.         0.         0.         0.         0.\n",
            " 0.         0.         0.         0.         0.         0.\n",
            " 0.         0.         0.         0.         0.         0.\n",
            " 0.         0.         0.         0.         0.         0.\n",
            " 0.         0.         0.         0.         0.         0.\n",
            " 0.         0.         0.         0.         0.         0.\n",
            " 0.         0.         0.         0.         0.         0.\n",
            " 0.         0.         0.         0.         0.         0.\n",
            " 0.         0.         0.         0.         0.         0.\n",
            " 0.         0.         0.01176471 0.07058824 0.07058824 0.07058824\n",
            " 0.49411765 0.53333336 0.6862745  0.10196079 0.6509804  1.\n",
            " 0.96862745 0.49803922 0.         0.         0.         0.\n",
            " 0.         0.         0.         0.         0.         0.\n",
            " 0.         0.         0.11764706 0.14117648 0.36862746 0.6039216\n",
            " 0.6666667  0.99215686 0.99215686 0.99215686 0.99215686 0.99215686\n",
            " 0.88235295 0.6745098  0.99215686 0.9490196  0.7647059  0.2509804\n",
            " 0.         0.         0.         0.         0.         0.\n",
            " 0.         0.         0.         0.         0.         0.19215687\n",
            " 0.93333334 0.99215686 0.99215686 0.99215686 0.99215686 0.99215686\n",
            " 0.99215686 0.99215686 0.99215686 0.9843137  0.3647059  0.32156864\n",
            " 0.32156864 0.21960784 0.15294118 0.         0.         0.\n",
            " 0.         0.         0.         0.         0.         0.\n",
            " 0.         0.         0.         0.07058824 0.85882354 0.99215686\n",
            " 0.99215686 0.99215686 0.99215686 0.99215686 0.7764706  0.7137255\n",
            " 0.96862745 0.94509804 0.         0.         0.         0.\n",
            " 0.         0.         0.         0.         0.         0.\n",
            " 0.         0.         0.         0.         0.         0.\n",
            " 0.         0.         0.3137255  0.6117647  0.41960785 0.99215686\n",
            " 0.99215686 0.8039216  0.04313726 0.         0.16862746 0.6039216\n",
            " 0.         0.         0.         0.         0.         0.\n",
            " 0.         0.         0.         0.         0.         0.\n",
            " 0.         0.         0.         0.         0.         0.\n",
            " 0.         0.05490196 0.00392157 0.6039216  0.99215686 0.3529412\n",
            " 0.         0.         0.         0.         0.         0.\n",
            " 0.         0.         0.         0.         0.         0.\n",
            " 0.         0.         0.         0.         0.         0.\n",
            " 0.         0.         0.         0.         0.         0.\n",
            " 0.         0.54509807 0.99215686 0.74509805 0.00784314 0.\n",
            " 0.         0.         0.         0.         0.         0.\n",
            " 0.         0.         0.         0.         0.         0.\n",
            " 0.         0.         0.         0.         0.         0.\n",
            " 0.         0.         0.         0.         0.         0.04313726\n",
            " 0.74509805 0.99215686 0.27450982 0.         0.         0.\n",
            " 0.         0.         0.         0.         0.         0.\n",
            " 0.         0.         0.         0.         0.         0.\n",
            " 0.         0.         0.         0.         0.         0.\n",
            " 0.         0.         0.         0.         0.13725491 0.94509804\n",
            " 0.88235295 0.627451   0.42352942 0.00392157 0.         0.\n",
            " 0.         0.         0.         0.         0.         0.\n",
            " 0.         0.         0.         0.         0.         0.\n",
            " 0.         0.         0.         0.         0.         0.\n",
            " 0.         0.         0.         0.31764707 0.9411765  0.99215686\n",
            " 0.99215686 0.46666667 0.09803922 0.         0.         0.\n",
            " 0.         0.         0.         0.         0.         0.\n",
            " 0.         0.         0.         0.         0.         0.\n",
            " 0.         0.         0.         0.         0.         0.\n",
            " 0.         0.         0.1764706  0.7294118  0.99215686 0.99215686\n",
            " 0.5882353  0.10588235 0.         0.         0.         0.\n",
            " 0.         0.         0.         0.         0.         0.\n",
            " 0.         0.         0.         0.         0.         0.\n",
            " 0.         0.         0.         0.         0.         0.\n",
            " 0.         0.0627451  0.3647059  0.9882353  0.99215686 0.73333335\n",
            " 0.         0.         0.         0.         0.         0.\n",
            " 0.         0.         0.         0.         0.         0.\n",
            " 0.         0.         0.         0.         0.         0.\n",
            " 0.         0.         0.         0.         0.         0.\n",
            " 0.         0.9764706  0.99215686 0.9764706  0.2509804  0.\n",
            " 0.         0.         0.         0.         0.         0.\n",
            " 0.         0.         0.         0.         0.         0.\n",
            " 0.         0.         0.         0.         0.         0.\n",
            " 0.         0.         0.18039216 0.50980395 0.7176471  0.99215686\n",
            " 0.99215686 0.8117647  0.00784314 0.         0.         0.\n",
            " 0.         0.         0.         0.         0.         0.\n",
            " 0.         0.         0.         0.         0.         0.\n",
            " 0.         0.         0.         0.         0.15294118 0.5803922\n",
            " 0.8980392  0.99215686 0.99215686 0.99215686 0.98039216 0.7137255\n",
            " 0.         0.         0.         0.         0.         0.\n",
            " 0.         0.         0.         0.         0.         0.\n",
            " 0.         0.         0.         0.         0.         0.\n",
            " 0.09411765 0.44705883 0.8666667  0.99215686 0.99215686 0.99215686\n",
            " 0.99215686 0.7882353  0.30588236 0.         0.         0.\n",
            " 0.         0.         0.         0.         0.         0.\n",
            " 0.         0.         0.         0.         0.         0.\n",
            " 0.         0.         0.09019608 0.25882354 0.8352941  0.99215686\n",
            " 0.99215686 0.99215686 0.99215686 0.7764706  0.31764707 0.00784314\n",
            " 0.         0.         0.         0.         0.         0.\n",
            " 0.         0.         0.         0.         0.         0.\n",
            " 0.         0.         0.         0.         0.07058824 0.67058825\n",
            " 0.85882354 0.99215686 0.99215686 0.99215686 0.99215686 0.7647059\n",
            " 0.3137255  0.03529412 0.         0.         0.         0.\n",
            " 0.         0.         0.         0.         0.         0.\n",
            " 0.         0.         0.         0.         0.         0.\n",
            " 0.21568628 0.6745098  0.8862745  0.99215686 0.99215686 0.99215686\n",
            " 0.99215686 0.95686275 0.52156866 0.04313726 0.         0.\n",
            " 0.         0.         0.         0.         0.         0.\n",
            " 0.         0.         0.         0.         0.         0.\n",
            " 0.         0.         0.         0.         0.53333336 0.99215686\n",
            " 0.99215686 0.99215686 0.83137256 0.5294118  0.5176471  0.0627451\n",
            " 0.         0.         0.         0.         0.         0.\n",
            " 0.         0.         0.         0.         0.         0.\n",
            " 0.         0.         0.         0.         0.         0.\n",
            " 0.         0.         0.         0.         0.         0.\n",
            " 0.         0.         0.         0.         0.         0.\n",
            " 0.         0.         0.         0.         0.         0.\n",
            " 0.         0.         0.         0.         0.         0.\n",
            " 0.         0.         0.         0.         0.         0.\n",
            " 0.         0.         0.         0.         0.         0.\n",
            " 0.         0.         0.         0.         0.         0.\n",
            " 0.         0.         0.         0.         0.         0.\n",
            " 0.         0.         0.         0.         0.         0.\n",
            " 0.         0.         0.         0.         0.         0.\n",
            " 0.         0.         0.         0.         0.         0.\n",
            " 0.         0.         0.         0.         0.         0.\n",
            " 0.         0.         0.         0.         0.         0.\n",
            " 0.         0.         0.         0.        ], shape=(784,), dtype=float32)\n"
          ]
        }
      ]
    },
    {
      "cell_type": "code",
      "source": [
        "# GRADED FUNCTION: sigmoid\n",
        "\n",
        "def sigmoid(z):\n",
        "\n",
        "    \"\"\"\n",
        "    Computes the sigmoid of z\n",
        "\n",
        "    Arguments:\n",
        "    z -- input value, scalar or vector\n",
        "\n",
        "    Returns:\n",
        "    a -- (tf.float32) the sigmoid of z\n",
        "    \"\"\"\n",
        "    # tf.keras.activations.sigmoid requires float16, float32, float64, complex64, or complex128.\n",
        "\n",
        "    # (approx. 2 lines)\n",
        "    # z = ...\n",
        "    # a = ...\n",
        "    # YOUR CODE STARTS HERE\n",
        "    z = tf.cast(z,tf.float32)\n",
        "    a = tf.keras.activations.sigmoid(z)\n",
        "    # YOUR CODE ENDS HERE\n",
        "    return a"
      ],
      "metadata": {
        "id": "YqWzSBCbbBGa"
      },
      "execution_count": null,
      "outputs": []
    },
    {
      "cell_type": "code",
      "source": [
        "# GRADED FUNCTION: one_hot_matrix\n",
        "def one_hot_matrix(label, depth=10):\n",
        "    \"\"\"\n",
        "    Computes the one hot encoding for a single label\n",
        "\n",
        "    Arguments:\n",
        "        label --  (int) Categorical labels\n",
        "        depth --  (int) Number of different classes that label can take\n",
        "\n",
        "    Returns:\n",
        "         one_hot -- tf.Tensor A single-column matrix with the one hot encoding.\n",
        "    \"\"\"\n",
        "    # (approx. 1 line)\n",
        "    # one_hot = None(None(None, None, None), shape=[-1, ])\n",
        "    # YOUR CODE STARTS HERE\n",
        "    one_hot = tf.reshape(tf.one_hot(label,depth,axis=0),[depth])\n",
        "\n",
        "    # YOUR CODE ENDS HERE\n",
        "    return one_hot"
      ],
      "metadata": {
        "id": "u0S_bi7abA_E"
      },
      "execution_count": null,
      "outputs": []
    },
    {
      "cell_type": "code",
      "source": [
        "new_y_test = y_test.map(one_hot_matrix)\n",
        "new_y_train = y_train.map(one_hot_matrix)"
      ],
      "metadata": {
        "id": "sBqYvjS-bA7k"
      },
      "execution_count": null,
      "outputs": []
    },
    {
      "cell_type": "code",
      "source": [
        "print(next(iter(new_y_train)))"
      ],
      "metadata": {
        "colab": {
          "base_uri": "https://localhost:8080/"
        },
        "id": "IeraekuICq8s",
        "outputId": "fbd7ba15-e6af-4cc8-e850-805593d40884"
      },
      "execution_count": null,
      "outputs": [
        {
          "output_type": "stream",
          "name": "stdout",
          "text": [
            "tf.Tensor([0. 0. 0. 0. 0. 1. 0. 0. 0. 0.], shape=(10,), dtype=float32)\n"
          ]
        }
      ]
    },
    {
      "cell_type": "code",
      "source": [
        "# GRADED FUNCTION: initialize_parameters\n",
        "\n",
        "def initialize_parameters():\n",
        "    \"\"\"\n",
        "\n",
        "\n",
        "    Returns:\n",
        "    parameters -- a dictionary of tensors containing W1, b1, W2, b2, W3, b3\n",
        "    \"\"\"\n",
        "\n",
        "    initializer = tf.keras.initializers.GlorotNormal(seed=1)\n",
        "    #(approx. 6 lines of code)\n",
        "    # W1 = ...\n",
        "    # b1 = ...\n",
        "    # W2 = ...\n",
        "    # b2 = ...\n",
        "    # W3 = ...\n",
        "    # b3 = ...\n",
        "    # YOUR CODE STARTS HERE\n",
        "    W1 = tf.Variable(initializer(shape = (500,784)))\n",
        "    b1 = tf.Variable(initializer(shape = (500,1)))\n",
        "    W2 = tf.Variable(initializer(shape = (250,500)))\n",
        "    b2 = tf.Variable(initializer(shape = (250,1)))\n",
        "    W3 = tf.Variable(initializer(shape = (100,250)))\n",
        "    b3 = tf.Variable(initializer(shape = (100,1)))\n",
        "    W4 = tf.Variable(initializer(shape = (10,100)))\n",
        "    b4 = tf.Variable(initializer(shape = (10,1)))\n",
        "    # YOUR CODE ENDS HERE\n",
        "\n",
        "    parameters = {\"W1\": W1,\n",
        "                  \"b1\": b1,\n",
        "                  \"W2\": W2,\n",
        "                  \"b2\": b2,\n",
        "                  \"W3\": W3,\n",
        "                  \"b3\": b3,\n",
        "                  \"W4\": W4,\n",
        "                  \"b4\": b4\n",
        "                  }\n",
        "\n",
        "    return parameters"
      ],
      "metadata": {
        "id": "bjlo9BESb22Q"
      },
      "execution_count": null,
      "outputs": []
    },
    {
      "cell_type": "code",
      "source": [
        "# GRADED FUNCTION: forward_propagation\n",
        "\n",
        "def forward_propagation(X, parameters):\n",
        "    \"\"\"\n",
        "    Implements the forward propagation for the model: LINEAR -> RELU -> LINEAR -> RELU -> LINEAR\n",
        "\n",
        "    Arguments:\n",
        "    X -- input dataset placeholder, of shape (input size, number of examples)\n",
        "    parameters -- python dictionary containing your parameters \"W1\", \"b1\", \"W2\", \"b2\", \"W3\", \"b3\"\n",
        "                  the shapes are given in initialize_parameters\n",
        "\n",
        "    Returns:\n",
        "    Z3 -- the output of the last LINEAR unit\n",
        "    \"\"\"\n",
        "\n",
        "    # Retrieve the parameters from the dictionary \"parameters\"\n",
        "    W1 = parameters['W1']\n",
        "    b1 = parameters['b1']\n",
        "    W2 = parameters['W2']\n",
        "    b2 = parameters['b2']\n",
        "    W3 = parameters['W3']\n",
        "    b3 = parameters['b3']\n",
        "    W4 = parameters['W4']\n",
        "    b4 = parameters['b4']\n",
        "    #(approx. 5 lines)                   # Numpy Equivalents:\n",
        "    # Z1 = ...                           # Z1 = np.dot(W1, X) + b1\n",
        "    # A1 = ...                           # A1 = relu(Z1)\n",
        "    # Z2 = ...                           # Z2 = np.dot(W2, A1) + b2\n",
        "    # A2 = ...                           # A2 = relu(Z2)\n",
        "    # Z3 = ...                           # Z3 = np.dot(W3, A2) + b3\n",
        "    # YOUR CODE STARTS HERE\n",
        "    Z1 = tf.add(tf.matmul(W1,X),b1)\n",
        "    A1 = tf.keras.activations.sigmoid(Z1)\n",
        "    Z2 = tf.add(tf.matmul(W2,A1),b2)\n",
        "    A2 = tf.keras.activations.sigmoid(Z2)\n",
        "    Z3 = tf.add(tf.matmul(W3,A2),b3)\n",
        "    A3 = tf.keras.activations.sigmoid(Z3)\n",
        "    Z4 = tf.add(tf.matmul(W4,A3),b4)\n",
        "    # YOUR CODE ENDS HERE\n",
        "\n",
        "    return Z4"
      ],
      "metadata": {
        "id": "AjfcK-rFb3CJ"
      },
      "execution_count": null,
      "outputs": []
    },
    {
      "cell_type": "code",
      "source": [
        "# GRADED FUNCTION: compute_total_loss\n",
        "\n",
        "def compute_total_loss(logits, labels):\n",
        "    \"\"\"\n",
        "    Computes the total loss\n",
        "\n",
        "    Arguments:\n",
        "    logits -- output of forward propagation (output of the last LINEAR unit), of shape (6, num_examples)\n",
        "    labels -- \"true\" labels vector, same shape as Z3\n",
        "\n",
        "    Returns:\n",
        "    total_loss - Tensor of the total loss value\n",
        "    \"\"\"\n",
        "\n",
        "    #(1 line of code)\n",
        "    # total_loss = ...\n",
        "    # YOUR CODE STARTS HERE\n",
        "\n",
        "    total_loss = tf.reduce_sum(tf.keras.losses.categorical_crossentropy(tf.transpose(labels),tf.transpose(logits),from_logits=True))\n",
        "    # YOUR CODE ENDS HERE\n",
        "    return total_loss"
      ],
      "metadata": {
        "id": "VeODlCGDb3Xu"
      },
      "execution_count": null,
      "outputs": []
    },
    {
      "cell_type": "code",
      "source": [
        "def model(X_train, Y_train, X_test, Y_test, learning_rate = 0.01,\n",
        "          num_epochs = 1500, minibatch_size = 16, print_cost = True):\n",
        "    \"\"\"\n",
        "    Implements a three-layer tensorflow neural network: LINEAR->RELU->LINEAR->RELU->LINEAR->SOFTMAX.\n",
        "\n",
        "    Arguments:\n",
        "    X_train -- training set, of shape (input size = 784, number of training examples = 1080)\n",
        "    Y_train -- test set, of shape (output size = 10, number of training examples = 1080)\n",
        "    X_test -- training set, of shape (input size = 784, number of training examples = 120)\n",
        "    Y_test -- test set, of shape (output size = 10, number of test examples = 120)\n",
        "    learning_rate -- learning rate of the optimization\n",
        "    num_epochs -- number of epochs of the optimization loop\n",
        "    minibatch_size -- size of a minibatch\n",
        "    print_cost -- True to print the cost every 10 epochs\n",
        "\n",
        "    Returns:\n",
        "    parameters -- parameters learnt by the model. They can then be used to predict.\n",
        "    \"\"\"\n",
        "\n",
        "    costs = []                                        # To keep track of the cost\n",
        "    train_acc = []\n",
        "    test_acc = []\n",
        "\n",
        "    # Initialize your parameters\n",
        "    #(1 line)\n",
        "    parameters = initialize_parameters()\n",
        "\n",
        "    W1 = parameters['W1']\n",
        "    b1 = parameters['b1']\n",
        "    W2 = parameters['W2']\n",
        "    b2 = parameters['b2']\n",
        "    W3 = parameters['W3']\n",
        "    b3 = parameters['b3']\n",
        "    W4 = parameters['W4']\n",
        "    b4 = parameters['b4']\n",
        "    optimizer = tf.keras.optimizers.Adam(learning_rate)\n",
        "\n",
        "    # The CategoricalAccuracy will track the accuracy for this multiclass problem\n",
        "    test_accuracy = tf.keras.metrics.CategoricalAccuracy()\n",
        "    train_accuracy = tf.keras.metrics.CategoricalAccuracy()\n",
        "\n",
        "    dataset = tf.data.Dataset.zip((X_train, Y_train))\n",
        "    test_dataset = tf.data.Dataset.zip((X_test, Y_test))\n",
        "\n",
        "    # We can get the number of elements of a dataset using the cardinality method\n",
        "    m = dataset.cardinality().numpy()\n",
        "\n",
        "    minibatches = dataset.batch(minibatch_size).prefetch(8)\n",
        "    test_minibatches = test_dataset.batch(minibatch_size).prefetch(8)\n",
        "    #X_train = X_train.batch(minibatch_size, drop_remainder=True).prefetch(8)# <<< extra step\n",
        "    #Y_train = Y_train.batch(minibatch_size, drop_remainder=True).prefetch(8) # loads memory faster\n",
        "\n",
        "    # Do the training loop\n",
        "    for epoch in range(num_epochs):\n",
        "\n",
        "        epoch_total_loss = 0.\n",
        "\n",
        "        #We need to reset object to start measuring from 0 the accuracy each epoch\n",
        "        train_accuracy.reset_states()\n",
        "\n",
        "        for (minibatch_X, minibatch_Y) in minibatches:\n",
        "\n",
        "            with tf.GradientTape() as tape:\n",
        "                # 1. predict\n",
        "                Z4 = forward_propagation(tf.transpose(minibatch_X), parameters)\n",
        "\n",
        "                # 2. loss\n",
        "                minibatch_total_loss = compute_total_loss(Z4, tf.transpose(minibatch_Y))\n",
        "\n",
        "            # We accumulate the accuracy of all the batches\n",
        "            train_accuracy.update_state(minibatch_Y, tf.transpose(Z4))\n",
        "\n",
        "            trainable_variables = [W1, b1, W2, b2, W3, b3,W4,b4]\n",
        "            grads = tape.gradient(minibatch_total_loss, trainable_variables)\n",
        "            optimizer.apply_gradients(zip(grads, trainable_variables))\n",
        "            epoch_total_loss += minibatch_total_loss\n",
        "\n",
        "        # We divide the epoch total loss over the number of samples\n",
        "        epoch_total_loss /= m\n",
        "\n",
        "        # Print the cost every 10 epochs\n",
        "        if print_cost == True and epoch % 2 == 0:\n",
        "            print (\"Cost after epoch %i: %f\" % (epoch, epoch_total_loss))\n",
        "            print(\"Train accuracy:\", train_accuracy.result())\n",
        "\n",
        "            # We evaluate the test set every 10 epochs to avoid computational overhead\n",
        "            for (minibatch_X, minibatch_Y) in test_minibatches:\n",
        "                Z3 = forward_propagation(tf.transpose(minibatch_X), parameters)\n",
        "                test_accuracy.update_state(minibatch_Y, tf.transpose(Z4))\n",
        "            print(\"Test_accuracy:\", test_accuracy.result())\n",
        "\n",
        "            costs.append(epoch_total_loss)\n",
        "            train_acc.append(train_accuracy.result())\n",
        "            test_acc.append(test_accuracy.result())\n",
        "            test_accuracy.reset_states()\n",
        "\n",
        "\n",
        "    return parameters, costs, train_acc, test_acc"
      ],
      "metadata": {
        "id": "9guuVnoBb3ob"
      },
      "execution_count": null,
      "outputs": []
    },
    {
      "cell_type": "code",
      "source": [
        "parameters, costs, train_acc, test_acc = model(new_train, new_y_train, new_test, new_y_test, num_epochs=10)"
      ],
      "metadata": {
        "colab": {
          "base_uri": "https://localhost:8080/"
        },
        "id": "2DBTVXH-b34f",
        "outputId": "da337dbe-a0b1-4211-a778-e581d9efd0fb"
      },
      "execution_count": null,
      "outputs": [
        {
          "output_type": "stream",
          "name": "stdout",
          "text": [
            "Cost after epoch 0: 0.293450\n",
            "Train accuracy: tf.Tensor(0.91213334, shape=(), dtype=float32)\n",
            "Test_accuracy: tf.Tensor(0.1096, shape=(), dtype=float32)\n",
            "Cost after epoch 2: 0.171196\n",
            "Train accuracy: tf.Tensor(0.95021665, shape=(), dtype=float32)\n",
            "Test_accuracy: tf.Tensor(0.1096, shape=(), dtype=float32)\n",
            "Cost after epoch 4: 0.174994\n",
            "Train accuracy: tf.Tensor(0.95015, shape=(), dtype=float32)\n",
            "Test_accuracy: tf.Tensor(0.1096, shape=(), dtype=float32)\n",
            "Cost after epoch 6: 0.176096\n",
            "Train accuracy: tf.Tensor(0.9508, shape=(), dtype=float32)\n",
            "Test_accuracy: tf.Tensor(0.1096, shape=(), dtype=float32)\n",
            "Cost after epoch 8: 0.172700\n",
            "Train accuracy: tf.Tensor(0.95138335, shape=(), dtype=float32)\n",
            "Test_accuracy: tf.Tensor(0.1096, shape=(), dtype=float32)\n"
          ]
        }
      ]
    },
    {
      "cell_type": "code",
      "source": [
        "# Plot the cost\n",
        "plt.plot(np.squeeze(costs))\n",
        "plt.ylabel('cost')\n",
        "plt.xlabel('iterations (per fives)')\n",
        "plt.title(\"Learning rate =\" + str(0.0001))\n",
        "plt.show()\n"
      ],
      "metadata": {
        "id": "7dRDV72Ob4JJ",
        "colab": {
          "base_uri": "https://localhost:8080/",
          "height": 295
        },
        "outputId": "56854e58-99c8-459a-9b14-4e27473f9af8"
      },
      "execution_count": null,
      "outputs": [
        {
          "output_type": "display_data",
          "data": {
            "text/plain": [
              "<Figure size 432x288 with 1 Axes>"
            ],
            "image/png": "[encoded data removed]"
          },
          "metadata": {
            "needs_background": "light"
          }
        }
      ]
    },
    {
      "cell_type": "code",
      "source": [
        "# Plot the train accuracy\n",
        "plt.plot(np.squeeze(train_acc))\n",
        "plt.ylabel('Train Accuracy')\n",
        "plt.xlabel('iterations (per fives)')\n",
        "plt.title(\"Learning rate =\" + str(0.0001))\n",
        "# Plot the test accuracy\n",
        "plt.plot(np.squeeze(test_acc))\n",
        "plt.ylabel('Test Accuracy')\n",
        "plt.xlabel('iterations (per fives)')\n",
        "plt.title(\"Learning rate =\" + str(0.0001))\n",
        "plt.show()\n"
      ],
      "metadata": {
        "id": "JJludxXPb4UR",
        "colab": {
          "base_uri": "https://localhost:8080/",
          "height": 295
        },
        "outputId": "58883731-65d8-42bf-a9da-4039fa4cd207"
      },
      "execution_count": null,
      "outputs": [
        {
          "output_type": "display_data",
          "data": {
            "text/plain": [
              "<Figure size 432x288 with 1 Axes>"
            ],
            "image/png": "[encoded data removed]"
          },
          "metadata": {
            "needs_background": "light"
          }
        }
      ]
    },
    {
      "cell_type": "code",
      "source": [
        "x"
      ],
      "metadata": {
        "id": "VZjO3gZVb4ds"
      },
      "execution_count": null,
      "outputs": []
    }
  ]
}